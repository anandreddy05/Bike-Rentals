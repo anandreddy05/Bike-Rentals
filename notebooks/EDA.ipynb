{
 "cells": [
  {
   "cell_type": "markdown",
   "metadata": {},
   "source": [
    "# Exploratory Data Analysis (EDA) Summary\n",
    "\n",
    "## Seasonal Trends\n",
    "1. Demand for Rental Bikes (y):\n",
    "- Highest demand is observed from May to October (spring to early fall).\n",
    "- Possible reasons: Warmer weather, longer daylight hours, and increased outdoor activities.\n",
    "- Recommendation: Further analyze by day of the week to see if weekends have higher demand.\n",
    "## Quarterly Demand\n",
    "- Q3 (July - September) sees the highest demand for rental bikes.\n",
    "- This aligns with peak summer, vacations, and increased outdoor movement.\n",
    "- Business Insight: Promotions and marketing should be focused on Q2-Q3.\n",
    "## AutoCorrelation Analysis (ACF)\n",
    "- Significant autocorrelation up to lag 50 → Strong influence of past values.\n",
    "- This means bike rentals are influenced by past trends over roughly 50 time units (days or hours, depending on granularity).\n",
    "- Implication: Forecasting models should include long-term dependencies.\n",
    "## Partial AutoCorrelation (PACF)\n",
    "- Significant correlation up to lag 6 → Short-term dependency (6 days).\n",
    "- This suggests a weekly pattern where rental trends reset every ~6 days.\n",
    "- Implication: A 7-day lag feature should be included in the forecasting model.\n",
    "## Holidays\n",
    "- Added Holidays as the holidays might affet the bike rentals as people might use more rental bikes at holidays"
   ]
  },
  {
   "cell_type": "code",
   "execution_count": 1,
   "metadata": {},
   "outputs": [],
   "source": [
    "import pandas as pd\n",
    "import numpy as np\n",
    "from statsmodels.graphics.tsaplots import month_plot,quarter_plot,plot_acf,plot_pacf\n",
    "from statsmodels.tsa.seasonal import seasonal_decompose\n",
    "import matplotlib.pyplot as plt"
   ]
  },
  {
   "cell_type": "code",
   "execution_count": 2,
   "metadata": {},
   "outputs": [
    {
     "data": {
      "application/vnd.microsoft.datawrangler.viewer.v0+json": {
       "columns": [
        {
         "name": "index",
         "rawType": "int64",
         "type": "integer"
        },
        {
         "name": "Unnamed: 0",
         "rawType": "int64",
         "type": "integer"
        },
        {
         "name": "ds",
         "rawType": "object",
         "type": "string"
        },
        {
         "name": "holiday",
         "rawType": "int64",
         "type": "integer"
        },
        {
         "name": "workingday",
         "rawType": "int64",
         "type": "integer"
        },
        {
         "name": "weathersit",
         "rawType": "int64",
         "type": "integer"
        },
        {
         "name": "temp",
         "rawType": "float64",
         "type": "float"
        },
        {
         "name": "atemp",
         "rawType": "float64",
         "type": "float"
        },
        {
         "name": "hum",
         "rawType": "float64",
         "type": "float"
        },
        {
         "name": "windspeed",
         "rawType": "float64",
         "type": "float"
        },
        {
         "name": "y",
         "rawType": "int64",
         "type": "integer"
        },
        {
         "name": "weathersit_2",
         "rawType": "bool",
         "type": "boolean"
        },
        {
         "name": "weathersit_3",
         "rawType": "bool",
         "type": "boolean"
        }
       ],
       "conversionMethod": "pd.DataFrame",
       "ref": "9f65e05a-4938-4549-96ff-6920d4677794",
       "rows": [
        [
         "0",
         "0",
         "2011-01-01",
         "0",
         "0",
         "2",
         "0.344167",
         "0.363625",
         "0.805833",
         "0.160446",
         "985",
         "True",
         "False"
        ],
        [
         "1",
         "1",
         "2011-01-02",
         "0",
         "0",
         "2",
         "0.363478",
         "0.353739",
         "0.696087",
         "0.248539",
         "801",
         "True",
         "False"
        ],
        [
         "2",
         "2",
         "2011-01-03",
         "0",
         "1",
         "1",
         "0.196364",
         "0.189405",
         "0.437273",
         "0.248309",
         "1349",
         "False",
         "False"
        ],
        [
         "3",
         "3",
         "2011-01-04",
         "0",
         "1",
         "1",
         "0.2",
         "0.212122",
         "0.590435",
         "0.160296",
         "1562",
         "False",
         "False"
        ],
        [
         "4",
         "4",
         "2011-01-05",
         "0",
         "1",
         "1",
         "0.226957",
         "0.22927",
         "0.436957",
         "0.1869",
         "1600",
         "False",
         "False"
        ]
       ],
       "shape": {
        "columns": 12,
        "rows": 5
       }
      },
      "text/html": [
       "<div>\n",
       "<style scoped>\n",
       "    .dataframe tbody tr th:only-of-type {\n",
       "        vertical-align: middle;\n",
       "    }\n",
       "\n",
       "    .dataframe tbody tr th {\n",
       "        vertical-align: top;\n",
       "    }\n",
       "\n",
       "    .dataframe thead th {\n",
       "        text-align: right;\n",
       "    }\n",
       "</style>\n",
       "<table border=\"1\" class=\"dataframe\">\n",
       "  <thead>\n",
       "    <tr style=\"text-align: right;\">\n",
       "      <th></th>\n",
       "      <th>Unnamed: 0</th>\n",
       "      <th>ds</th>\n",
       "      <th>holiday</th>\n",
       "      <th>workingday</th>\n",
       "      <th>weathersit</th>\n",
       "      <th>temp</th>\n",
       "      <th>atemp</th>\n",
       "      <th>hum</th>\n",
       "      <th>windspeed</th>\n",
       "      <th>y</th>\n",
       "      <th>weathersit_2</th>\n",
       "      <th>weathersit_3</th>\n",
       "    </tr>\n",
       "  </thead>\n",
       "  <tbody>\n",
       "    <tr>\n",
       "      <th>0</th>\n",
       "      <td>0</td>\n",
       "      <td>2011-01-01</td>\n",
       "      <td>0</td>\n",
       "      <td>0</td>\n",
       "      <td>2</td>\n",
       "      <td>0.344167</td>\n",
       "      <td>0.363625</td>\n",
       "      <td>0.805833</td>\n",
       "      <td>0.160446</td>\n",
       "      <td>985</td>\n",
       "      <td>True</td>\n",
       "      <td>False</td>\n",
       "    </tr>\n",
       "    <tr>\n",
       "      <th>1</th>\n",
       "      <td>1</td>\n",
       "      <td>2011-01-02</td>\n",
       "      <td>0</td>\n",
       "      <td>0</td>\n",
       "      <td>2</td>\n",
       "      <td>0.363478</td>\n",
       "      <td>0.353739</td>\n",
       "      <td>0.696087</td>\n",
       "      <td>0.248539</td>\n",
       "      <td>801</td>\n",
       "      <td>True</td>\n",
       "      <td>False</td>\n",
       "    </tr>\n",
       "    <tr>\n",
       "      <th>2</th>\n",
       "      <td>2</td>\n",
       "      <td>2011-01-03</td>\n",
       "      <td>0</td>\n",
       "      <td>1</td>\n",
       "      <td>1</td>\n",
       "      <td>0.196364</td>\n",
       "      <td>0.189405</td>\n",
       "      <td>0.437273</td>\n",
       "      <td>0.248309</td>\n",
       "      <td>1349</td>\n",
       "      <td>False</td>\n",
       "      <td>False</td>\n",
       "    </tr>\n",
       "    <tr>\n",
       "      <th>3</th>\n",
       "      <td>3</td>\n",
       "      <td>2011-01-04</td>\n",
       "      <td>0</td>\n",
       "      <td>1</td>\n",
       "      <td>1</td>\n",
       "      <td>0.200000</td>\n",
       "      <td>0.212122</td>\n",
       "      <td>0.590435</td>\n",
       "      <td>0.160296</td>\n",
       "      <td>1562</td>\n",
       "      <td>False</td>\n",
       "      <td>False</td>\n",
       "    </tr>\n",
       "    <tr>\n",
       "      <th>4</th>\n",
       "      <td>4</td>\n",
       "      <td>2011-01-05</td>\n",
       "      <td>0</td>\n",
       "      <td>1</td>\n",
       "      <td>1</td>\n",
       "      <td>0.226957</td>\n",
       "      <td>0.229270</td>\n",
       "      <td>0.436957</td>\n",
       "      <td>0.186900</td>\n",
       "      <td>1600</td>\n",
       "      <td>False</td>\n",
       "      <td>False</td>\n",
       "    </tr>\n",
       "  </tbody>\n",
       "</table>\n",
       "</div>"
      ],
      "text/plain": [
       "   Unnamed: 0          ds  holiday  workingday  weathersit      temp  \\\n",
       "0           0  2011-01-01        0           0           2  0.344167   \n",
       "1           1  2011-01-02        0           0           2  0.363478   \n",
       "2           2  2011-01-03        0           1           1  0.196364   \n",
       "3           3  2011-01-04        0           1           1  0.200000   \n",
       "4           4  2011-01-05        0           1           1  0.226957   \n",
       "\n",
       "      atemp       hum  windspeed     y  weathersit_2  weathersit_3  \n",
       "0  0.363625  0.805833   0.160446   985          True         False  \n",
       "1  0.353739  0.696087   0.248539   801          True         False  \n",
       "2  0.189405  0.437273   0.248309  1349         False         False  \n",
       "3  0.212122  0.590435   0.160296  1562         False         False  \n",
       "4  0.229270  0.436957   0.186900  1600         False         False  "
      ]
     },
     "execution_count": 2,
     "metadata": {},
     "output_type": "execute_result"
    }
   ],
   "source": [
    "df = pd.read_csv(\"../data/preprocessed-data.csv\")\n",
    "df_temp = df.copy()\n",
    "df_temp.head()"
   ]
  },
  {
   "cell_type": "code",
   "execution_count": 3,
   "metadata": {},
   "outputs": [],
   "source": [
    "df_temp.set_index('ds',inplace=True)\n",
    "df_temp.index = pd.to_datetime(df_temp.index)"
   ]
  },
  {
   "cell_type": "code",
   "execution_count": 4,
   "metadata": {},
   "outputs": [
    {
     "data": {
      "text/plain": [
       "DatetimeIndex(['2011-01-01', '2011-01-02', '2011-01-03', '2011-01-04',\n",
       "               '2011-01-05', '2011-01-06', '2011-01-07', '2011-01-08',\n",
       "               '2011-01-09', '2011-01-10',\n",
       "               ...\n",
       "               '2012-11-22', '2012-11-23', '2012-11-24', '2012-11-25',\n",
       "               '2012-11-26', '2012-11-27', '2012-11-28', '2012-11-29',\n",
       "               '2012-11-30', '2012-12-01'],\n",
       "              dtype='datetime64[ns]', name='ds', length=701, freq=None)"
      ]
     },
     "execution_count": 4,
     "metadata": {},
     "output_type": "execute_result"
    }
   ],
   "source": [
    "df_temp.index"
   ]
  },
  {
   "cell_type": "code",
   "execution_count": 5,
   "metadata": {},
   "outputs": [
    {
     "data": {
      "image/png": "[encoded data removed]",
      "text/plain": [
       "<Figure size 640x480 with 1 Axes>"
      ]
     },
     "metadata": {},
     "output_type": "display_data"
    }
   ],
   "source": [
    "df_temp['y'].plot(title='Count Of Total Rental Bikes')\n",
    "plt.savefig('../visualizations/EDA-Visualizations/y.png')\n",
    "plt.show()"
   ]
  },
  {
   "cell_type": "markdown",
   "metadata": {},
   "source": [
    "## Month PLot"
   ]
  },
  {
   "cell_type": "code",
   "execution_count": 6,
   "metadata": {},
   "outputs": [
    {
     "name": "stderr",
     "output_type": "stream",
     "text": [
      "C:\\Users\\ANAND REDDY\\AppData\\Local\\Temp\\ipykernel_25376\\459826428.py:1: FutureWarning: 'M' is deprecated and will be removed in a future version, please use 'ME' instead.\n",
      "  month_plot(df_temp['y'].resample('M').mean())\n"
     ]
    },
    {
     "data": {
      "image/png": "[encoded data removed]",
      "text/plain": [
       "<Figure size 640x480 with 1 Axes>"
      ]
     },
     "metadata": {},
     "output_type": "display_data"
    }
   ],
   "source": [
    "month_plot(df_temp['y'].resample('M').mean())\n",
    "plt.savefig(\"../visualizations/EDA-Visualizations/month_plot.png\")\n",
    "plt.show()"
   ]
  },
  {
   "cell_type": "markdown",
   "metadata": {},
   "source": [
    "## Quater Plot"
   ]
  },
  {
   "cell_type": "code",
   "execution_count": 7,
   "metadata": {},
   "outputs": [
    {
     "name": "stderr",
     "output_type": "stream",
     "text": [
      "C:\\Users\\ANAND REDDY\\AppData\\Local\\Temp\\ipykernel_25376\\4246000631.py:1: FutureWarning: 'Q' is deprecated and will be removed in a future version, please use 'QE' instead.\n",
      "  quarter_plot(df_temp['y'].resample('Q').mean())\n"
     ]
    },
    {
     "data": {
      "image/png": "[encoded data removed]",
      "text/plain": [
       "<Figure size 640x480 with 1 Axes>"
      ]
     },
     "metadata": {},
     "output_type": "display_data"
    }
   ],
   "source": [
    "quarter_plot(df_temp['y'].resample('Q').mean())\n",
    "plt.savefig(\"../visualizations/EDA-Visualizations/quarter_plot.png\")\n",
    "plt.show()"
   ]
  },
  {
   "cell_type": "markdown",
   "metadata": {},
   "source": [
    "## AutoCorrelation"
   ]
  },
  {
   "cell_type": "code",
   "execution_count": 8,
   "metadata": {},
   "outputs": [
    {
     "data": {
      "image/png": "[encoded data removed]",
      "text/plain": [
       "<Figure size 1600x400 with 1 Axes>"
      ]
     },
     "metadata": {},
     "output_type": "display_data"
    }
   ],
   "source": [
    "figs,ax = plt.subplots(figsize=(16,4))\n",
    "plot_acf(df_temp.y,lags=100,ax=ax)\n",
    "plt.savefig(\"../visualizations/EDA-Visualizations/AutoCorrelation.png\")\n",
    "plt.show()"
   ]
  },
  {
   "cell_type": "markdown",
   "metadata": {},
   "source": [
    "## Partial Correllation"
   ]
  },
  {
   "cell_type": "code",
   "execution_count": 9,
   "metadata": {},
   "outputs": [
    {
     "data": {
      "image/png": "[encoded data removed]",
      "text/plain": [
       "<Figure size 1600x400 with 1 Axes>"
      ]
     },
     "metadata": {},
     "output_type": "display_data"
    }
   ],
   "source": [
    "figs,ax = plt.subplots(figsize=(16,4))\n",
    "plot_pacf(df_temp.y,lags=100,ax=ax)\n",
    "plt.savefig(\"../visualizations/EDA-Visualizations/Partial-AutoCorrelation.png\")\n",
    "plt.show()"
   ]
  },
  {
   "cell_type": "markdown",
   "metadata": {},
   "source": [
    "# Holidays\n",
    "- data-info-> holiday : weather day is holiday or not\n",
    "- 1 = Holiday\n",
    "- 0 = Not a Holiday"
   ]
  },
  {
   "cell_type": "code",
   "execution_count": 10,
   "metadata": {},
   "outputs": [
    {
     "data": {
      "text/plain": [
       "16     2011-01-17\n",
       "51     2011-02-21\n",
       "104    2011-04-15\n",
       "149    2011-05-30\n",
       "184    2011-07-04\n",
       "247    2011-09-05\n",
       "282    2011-10-10\n",
       "314    2011-11-11\n",
       "327    2011-11-24\n",
       "359    2011-12-26\n",
       "366    2012-01-02\n",
       "380    2012-01-16\n",
       "415    2012-02-20\n",
       "471    2012-04-16\n",
       "513    2012-05-28\n",
       "550    2012-07-04\n",
       "611    2012-09-03\n",
       "646    2012-10-08\n",
       "681    2012-11-12\n",
       "691    2012-11-22\n",
       "Name: ds, dtype: object"
      ]
     },
     "execution_count": 10,
     "metadata": {},
     "output_type": "execute_result"
    }
   ],
   "source": [
    "df[df.holiday == 1].ds"
   ]
  },
  {
   "cell_type": "markdown",
   "metadata": {},
   "source": [
    "- `ds (date column)` → Specifies when the holiday occurs.\n",
    "- `lower_window` → Number of days before the holiday when its effect starts.\n",
    "- `upper_window` → Number of days after the holiday when its effect fades."
   ]
  },
  {
   "cell_type": "code",
   "execution_count": 11,
   "metadata": {},
   "outputs": [],
   "source": [
    "gen_holidays = pd.DataFrame({'holiday':'gen_holi','ds':df[df.holiday==1].ds,'lower_window': -2, 'upper_window': 2})\n",
    "xmas = pd.DataFrame({'holiday':'christmas','ds':pd.to_datetime(['2011-12-24','2012-12-24']),'lower_window': -3, 'upper_window': 3})\n",
    "newyear = pd.DataFrame({'holiday':'new_years','ds':pd.to_datetime(['2011-12-31','2012-12-31']),'lower_window': -3, 'upper_window': 3})\n"
   ]
  },
  {
   "cell_type": "code",
   "execution_count": 12,
   "metadata": {},
   "outputs": [
    {
     "data": {
      "application/vnd.microsoft.datawrangler.viewer.v0+json": {
       "columns": [
        {
         "name": "index",
         "rawType": "int64",
         "type": "integer"
        },
        {
         "name": "holiday",
         "rawType": "object",
         "type": "string"
        },
        {
         "name": "ds",
         "rawType": "object",
         "type": "unknown"
        },
        {
         "name": "lower_window",
         "rawType": "int64",
         "type": "integer"
        },
        {
         "name": "upper_window",
         "rawType": "int64",
         "type": "integer"
        }
       ],
       "conversionMethod": "pd.DataFrame",
       "ref": "242d644e-cc3e-4349-9f52-a24b4bc222a0",
       "rows": [
        [
         "16",
         "gen_holi",
         "2011-01-17",
         "-2",
         "2"
        ],
        [
         "51",
         "gen_holi",
         "2011-02-21",
         "-2",
         "2"
        ],
        [
         "104",
         "gen_holi",
         "2011-04-15",
         "-2",
         "2"
        ],
        [
         "149",
         "gen_holi",
         "2011-05-30",
         "-2",
         "2"
        ],
        [
         "184",
         "gen_holi",
         "2011-07-04",
         "-2",
         "2"
        ],
        [
         "247",
         "gen_holi",
         "2011-09-05",
         "-2",
         "2"
        ],
        [
         "282",
         "gen_holi",
         "2011-10-10",
         "-2",
         "2"
        ],
        [
         "314",
         "gen_holi",
         "2011-11-11",
         "-2",
         "2"
        ],
        [
         "327",
         "gen_holi",
         "2011-11-24",
         "-2",
         "2"
        ],
        [
         "359",
         "gen_holi",
         "2011-12-26",
         "-2",
         "2"
        ],
        [
         "366",
         "gen_holi",
         "2012-01-02",
         "-2",
         "2"
        ],
        [
         "380",
         "gen_holi",
         "2012-01-16",
         "-2",
         "2"
        ],
        [
         "415",
         "gen_holi",
         "2012-02-20",
         "-2",
         "2"
        ],
        [
         "471",
         "gen_holi",
         "2012-04-16",
         "-2",
         "2"
        ],
        [
         "513",
         "gen_holi",
         "2012-05-28",
         "-2",
         "2"
        ],
        [
         "550",
         "gen_holi",
         "2012-07-04",
         "-2",
         "2"
        ],
        [
         "611",
         "gen_holi",
         "2012-09-03",
         "-2",
         "2"
        ],
        [
         "646",
         "gen_holi",
         "2012-10-08",
         "-2",
         "2"
        ],
        [
         "681",
         "gen_holi",
         "2012-11-12",
         "-2",
         "2"
        ],
        [
         "691",
         "gen_holi",
         "2012-11-22",
         "-2",
         "2"
        ],
        [
         "0",
         "christmas",
         "2011-12-24 00:00:00",
         "-3",
         "3"
        ],
        [
         "1",
         "christmas",
         "2012-12-24 00:00:00",
         "-3",
         "3"
        ],
        [
         "0",
         "new_years",
         "2011-12-31 00:00:00",
         "-3",
         "3"
        ],
        [
         "1",
         "new_years",
         "2012-12-31 00:00:00",
         "-3",
         "3"
        ]
       ],
       "shape": {
        "columns": 4,
        "rows": 24
       }
      },
      "text/html": [
       "<div>\n",
       "<style scoped>\n",
       "    .dataframe tbody tr th:only-of-type {\n",
       "        vertical-align: middle;\n",
       "    }\n",
       "\n",
       "    .dataframe tbody tr th {\n",
       "        vertical-align: top;\n",
       "    }\n",
       "\n",
       "    .dataframe thead th {\n",
       "        text-align: right;\n",
       "    }\n",
       "</style>\n",
       "<table border=\"1\" class=\"dataframe\">\n",
       "  <thead>\n",
       "    <tr style=\"text-align: right;\">\n",
       "      <th></th>\n",
       "      <th>holiday</th>\n",
       "      <th>ds</th>\n",
       "      <th>lower_window</th>\n",
       "      <th>upper_window</th>\n",
       "    </tr>\n",
       "  </thead>\n",
       "  <tbody>\n",
       "    <tr>\n",
       "      <th>16</th>\n",
       "      <td>gen_holi</td>\n",
       "      <td>2011-01-17</td>\n",
       "      <td>-2</td>\n",
       "      <td>2</td>\n",
       "    </tr>\n",
       "    <tr>\n",
       "      <th>51</th>\n",
       "      <td>gen_holi</td>\n",
       "      <td>2011-02-21</td>\n",
       "      <td>-2</td>\n",
       "      <td>2</td>\n",
       "    </tr>\n",
       "    <tr>\n",
       "      <th>104</th>\n",
       "      <td>gen_holi</td>\n",
       "      <td>2011-04-15</td>\n",
       "      <td>-2</td>\n",
       "      <td>2</td>\n",
       "    </tr>\n",
       "    <tr>\n",
       "      <th>149</th>\n",
       "      <td>gen_holi</td>\n",
       "      <td>2011-05-30</td>\n",
       "      <td>-2</td>\n",
       "      <td>2</td>\n",
       "    </tr>\n",
       "    <tr>\n",
       "      <th>184</th>\n",
       "      <td>gen_holi</td>\n",
       "      <td>2011-07-04</td>\n",
       "      <td>-2</td>\n",
       "      <td>2</td>\n",
       "    </tr>\n",
       "    <tr>\n",
       "      <th>247</th>\n",
       "      <td>gen_holi</td>\n",
       "      <td>2011-09-05</td>\n",
       "      <td>-2</td>\n",
       "      <td>2</td>\n",
       "    </tr>\n",
       "    <tr>\n",
       "      <th>282</th>\n",
       "      <td>gen_holi</td>\n",
       "      <td>2011-10-10</td>\n",
       "      <td>-2</td>\n",
       "      <td>2</td>\n",
       "    </tr>\n",
       "    <tr>\n",
       "      <th>314</th>\n",
       "      <td>gen_holi</td>\n",
       "      <td>2011-11-11</td>\n",
       "      <td>-2</td>\n",
       "      <td>2</td>\n",
       "    </tr>\n",
       "    <tr>\n",
       "      <th>327</th>\n",
       "      <td>gen_holi</td>\n",
       "      <td>2011-11-24</td>\n",
       "      <td>-2</td>\n",
       "      <td>2</td>\n",
       "    </tr>\n",
       "    <tr>\n",
       "      <th>359</th>\n",
       "      <td>gen_holi</td>\n",
       "      <td>2011-12-26</td>\n",
       "      <td>-2</td>\n",
       "      <td>2</td>\n",
       "    </tr>\n",
       "    <tr>\n",
       "      <th>366</th>\n",
       "      <td>gen_holi</td>\n",
       "      <td>2012-01-02</td>\n",
       "      <td>-2</td>\n",
       "      <td>2</td>\n",
       "    </tr>\n",
       "    <tr>\n",
       "      <th>380</th>\n",
       "      <td>gen_holi</td>\n",
       "      <td>2012-01-16</td>\n",
       "      <td>-2</td>\n",
       "      <td>2</td>\n",
       "    </tr>\n",
       "    <tr>\n",
       "      <th>415</th>\n",
       "      <td>gen_holi</td>\n",
       "      <td>2012-02-20</td>\n",
       "      <td>-2</td>\n",
       "      <td>2</td>\n",
       "    </tr>\n",
       "    <tr>\n",
       "      <th>471</th>\n",
       "      <td>gen_holi</td>\n",
       "      <td>2012-04-16</td>\n",
       "      <td>-2</td>\n",
       "      <td>2</td>\n",
       "    </tr>\n",
       "    <tr>\n",
       "      <th>513</th>\n",
       "      <td>gen_holi</td>\n",
       "      <td>2012-05-28</td>\n",
       "      <td>-2</td>\n",
       "      <td>2</td>\n",
       "    </tr>\n",
       "    <tr>\n",
       "      <th>550</th>\n",
       "      <td>gen_holi</td>\n",
       "      <td>2012-07-04</td>\n",
       "      <td>-2</td>\n",
       "      <td>2</td>\n",
       "    </tr>\n",
       "    <tr>\n",
       "      <th>611</th>\n",
       "      <td>gen_holi</td>\n",
       "      <td>2012-09-03</td>\n",
       "      <td>-2</td>\n",
       "      <td>2</td>\n",
       "    </tr>\n",
       "    <tr>\n",
       "      <th>646</th>\n",
       "      <td>gen_holi</td>\n",
       "      <td>2012-10-08</td>\n",
       "      <td>-2</td>\n",
       "      <td>2</td>\n",
       "    </tr>\n",
       "    <tr>\n",
       "      <th>681</th>\n",
       "      <td>gen_holi</td>\n",
       "      <td>2012-11-12</td>\n",
       "      <td>-2</td>\n",
       "      <td>2</td>\n",
       "    </tr>\n",
       "    <tr>\n",
       "      <th>691</th>\n",
       "      <td>gen_holi</td>\n",
       "      <td>2012-11-22</td>\n",
       "      <td>-2</td>\n",
       "      <td>2</td>\n",
       "    </tr>\n",
       "    <tr>\n",
       "      <th>0</th>\n",
       "      <td>christmas</td>\n",
       "      <td>2011-12-24 00:00:00</td>\n",
       "      <td>-3</td>\n",
       "      <td>3</td>\n",
       "    </tr>\n",
       "    <tr>\n",
       "      <th>1</th>\n",
       "      <td>christmas</td>\n",
       "      <td>2012-12-24 00:00:00</td>\n",
       "      <td>-3</td>\n",
       "      <td>3</td>\n",
       "    </tr>\n",
       "    <tr>\n",
       "      <th>0</th>\n",
       "      <td>new_years</td>\n",
       "      <td>2011-12-31 00:00:00</td>\n",
       "      <td>-3</td>\n",
       "      <td>3</td>\n",
       "    </tr>\n",
       "    <tr>\n",
       "      <th>1</th>\n",
       "      <td>new_years</td>\n",
       "      <td>2012-12-31 00:00:00</td>\n",
       "      <td>-3</td>\n",
       "      <td>3</td>\n",
       "    </tr>\n",
       "  </tbody>\n",
       "</table>\n",
       "</div>"
      ],
      "text/plain": [
       "       holiday                   ds  lower_window  upper_window\n",
       "16    gen_holi           2011-01-17            -2             2\n",
       "51    gen_holi           2011-02-21            -2             2\n",
       "104   gen_holi           2011-04-15            -2             2\n",
       "149   gen_holi           2011-05-30            -2             2\n",
       "184   gen_holi           2011-07-04            -2             2\n",
       "247   gen_holi           2011-09-05            -2             2\n",
       "282   gen_holi           2011-10-10            -2             2\n",
       "314   gen_holi           2011-11-11            -2             2\n",
       "327   gen_holi           2011-11-24            -2             2\n",
       "359   gen_holi           2011-12-26            -2             2\n",
       "366   gen_holi           2012-01-02            -2             2\n",
       "380   gen_holi           2012-01-16            -2             2\n",
       "415   gen_holi           2012-02-20            -2             2\n",
       "471   gen_holi           2012-04-16            -2             2\n",
       "513   gen_holi           2012-05-28            -2             2\n",
       "550   gen_holi           2012-07-04            -2             2\n",
       "611   gen_holi           2012-09-03            -2             2\n",
       "646   gen_holi           2012-10-08            -2             2\n",
       "681   gen_holi           2012-11-12            -2             2\n",
       "691   gen_holi           2012-11-22            -2             2\n",
       "0    christmas  2011-12-24 00:00:00            -3             3\n",
       "1    christmas  2012-12-24 00:00:00            -3             3\n",
       "0    new_years  2011-12-31 00:00:00            -3             3\n",
       "1    new_years  2012-12-31 00:00:00            -3             3"
      ]
     },
     "execution_count": 12,
     "metadata": {},
     "output_type": "execute_result"
    }
   ],
   "source": [
    "holidays = pd.concat([gen_holidays,xmas,newyear])\n",
    "holidays"
   ]
  },
  {
   "cell_type": "code",
   "execution_count": null,
   "metadata": {},
   "outputs": [],
   "source": [
    "holidays.to_csv(\"../data/holidays.csv\")"
   ]
  }
 ],
 "metadata": {
  "kernelspec": {
   "display_name": "timeVenv",
   "language": "python",
   "name": "python3"
  },
  "language_info": {
   "codemirror_mode": {
    "name": "ipython",
    "version": 3
   },
   "file_extension": ".py",
   "mimetype": "text/x-python",
   "name": "python",
   "nbconvert_exporter": "python",
   "pygments_lexer": "ipython3",
   "version": "3.10.6"
  }
 },
 "nbformat": 4,
 "nbformat_minor": 2
}
