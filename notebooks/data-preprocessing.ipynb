{
 "cells": [
  {
   "cell_type": "code",
   "execution_count": 2,
   "metadata": {},
   "outputs": [],
   "source": [
    "import pandas as pd\n",
    "import numpy as np\n",
    "from statsmodels.graphics.tsaplots import month_plot,quarter_plot,plot_acf,plot_pacf"
   ]
  },
  {
   "cell_type": "code",
   "execution_count": 3,
   "metadata": {},
   "outputs": [
    {
     "data": {
      "application/vnd.microsoft.datawrangler.viewer.v0+json": {
       "columns": [
        {
         "name": "index",
         "rawType": "int64",
         "type": "integer"
        },
        {
         "name": "instant",
         "rawType": "int64",
         "type": "integer"
        },
        {
         "name": "dteday",
         "rawType": "object",
         "type": "string"
        },
        {
         "name": "season",
         "rawType": "int64",
         "type": "integer"
        },
        {
         "name": "yr",
         "rawType": "int64",
         "type": "integer"
        },
        {
         "name": "mnth",
         "rawType": "int64",
         "type": "integer"
        },
        {
         "name": "holiday",
         "rawType": "int64",
         "type": "integer"
        },
        {
         "name": "weekday",
         "rawType": "int64",
         "type": "integer"
        },
        {
         "name": "workingday",
         "rawType": "int64",
         "type": "integer"
        },
        {
         "name": "weathersit",
         "rawType": "int64",
         "type": "integer"
        },
        {
         "name": "temp",
         "rawType": "float64",
         "type": "float"
        },
        {
         "name": "atemp",
         "rawType": "float64",
         "type": "float"
        },
        {
         "name": "hum",
         "rawType": "float64",
         "type": "float"
        },
        {
         "name": "windspeed",
         "rawType": "float64",
         "type": "float"
        },
        {
         "name": "casual",
         "rawType": "int64",
         "type": "integer"
        },
        {
         "name": "registered",
         "rawType": "int64",
         "type": "integer"
        },
        {
         "name": "cnt",
         "rawType": "int64",
         "type": "integer"
        }
       ],
       "conversionMethod": "pd.DataFrame",
       "ref": "c5160909-2554-4287-8f65-aa394dde526b",
       "rows": [
        [
         "0",
         "1",
         "1/1/2011",
         "1",
         "0",
         "1",
         "0",
         "6",
         "0",
         "2",
         "0.344167",
         "0.363625",
         "0.805833",
         "0.160446",
         "331",
         "654",
         "985"
        ],
        [
         "1",
         "2",
         "1/2/2011",
         "1",
         "0",
         "1",
         "0",
         "0",
         "0",
         "2",
         "0.363478",
         "0.353739",
         "0.696087",
         "0.248539",
         "131",
         "670",
         "801"
        ],
        [
         "2",
         "3",
         "1/3/2011",
         "1",
         "0",
         "1",
         "0",
         "1",
         "1",
         "1",
         "0.196364",
         "0.189405",
         "0.437273",
         "0.248309",
         "120",
         "1229",
         "1349"
        ],
        [
         "3",
         "4",
         "1/4/2011",
         "1",
         "0",
         "1",
         "0",
         "2",
         "1",
         "1",
         "0.2",
         "0.212122",
         "0.590435",
         "0.160296",
         "108",
         "1454",
         "1562"
        ],
        [
         "4",
         "5",
         "1/5/2011",
         "1",
         "0",
         "1",
         "0",
         "3",
         "1",
         "1",
         "0.226957",
         "0.22927",
         "0.436957",
         "0.1869",
         "82",
         "1518",
         "1600"
        ]
       ],
       "shape": {
        "columns": 16,
        "rows": 5
       }
      },
      "text/html": [
       "<div>\n",
       "<style scoped>\n",
       "    .dataframe tbody tr th:only-of-type {\n",
       "        vertical-align: middle;\n",
       "    }\n",
       "\n",
       "    .dataframe tbody tr th {\n",
       "        vertical-align: top;\n",
       "    }\n",
       "\n",
       "    .dataframe thead th {\n",
       "        text-align: right;\n",
       "    }\n",
       "</style>\n",
       "<table border=\"1\" class=\"dataframe\">\n",
       "  <thead>\n",
       "    <tr style=\"text-align: right;\">\n",
       "      <th></th>\n",
       "      <th>instant</th>\n",
       "      <th>dteday</th>\n",
       "      <th>season</th>\n",
       "      <th>yr</th>\n",
       "      <th>mnth</th>\n",
       "      <th>holiday</th>\n",
       "      <th>weekday</th>\n",
       "      <th>workingday</th>\n",
       "      <th>weathersit</th>\n",
       "      <th>temp</th>\n",
       "      <th>atemp</th>\n",
       "      <th>hum</th>\n",
       "      <th>windspeed</th>\n",
       "      <th>casual</th>\n",
       "      <th>registered</th>\n",
       "      <th>cnt</th>\n",
       "    </tr>\n",
       "  </thead>\n",
       "  <tbody>\n",
       "    <tr>\n",
       "      <th>0</th>\n",
       "      <td>1</td>\n",
       "      <td>1/1/2011</td>\n",
       "      <td>1</td>\n",
       "      <td>0</td>\n",
       "      <td>1</td>\n",
       "      <td>0</td>\n",
       "      <td>6</td>\n",
       "      <td>0</td>\n",
       "      <td>2</td>\n",
       "      <td>0.344167</td>\n",
       "      <td>0.363625</td>\n",
       "      <td>0.805833</td>\n",
       "      <td>0.160446</td>\n",
       "      <td>331</td>\n",
       "      <td>654</td>\n",
       "      <td>985</td>\n",
       "    </tr>\n",
       "    <tr>\n",
       "      <th>1</th>\n",
       "      <td>2</td>\n",
       "      <td>1/2/2011</td>\n",
       "      <td>1</td>\n",
       "      <td>0</td>\n",
       "      <td>1</td>\n",
       "      <td>0</td>\n",
       "      <td>0</td>\n",
       "      <td>0</td>\n",
       "      <td>2</td>\n",
       "      <td>0.363478</td>\n",
       "      <td>0.353739</td>\n",
       "      <td>0.696087</td>\n",
       "      <td>0.248539</td>\n",
       "      <td>131</td>\n",
       "      <td>670</td>\n",
       "      <td>801</td>\n",
       "    </tr>\n",
       "    <tr>\n",
       "      <th>2</th>\n",
       "      <td>3</td>\n",
       "      <td>1/3/2011</td>\n",
       "      <td>1</td>\n",
       "      <td>0</td>\n",
       "      <td>1</td>\n",
       "      <td>0</td>\n",
       "      <td>1</td>\n",
       "      <td>1</td>\n",
       "      <td>1</td>\n",
       "      <td>0.196364</td>\n",
       "      <td>0.189405</td>\n",
       "      <td>0.437273</td>\n",
       "      <td>0.248309</td>\n",
       "      <td>120</td>\n",
       "      <td>1229</td>\n",
       "      <td>1349</td>\n",
       "    </tr>\n",
       "    <tr>\n",
       "      <th>3</th>\n",
       "      <td>4</td>\n",
       "      <td>1/4/2011</td>\n",
       "      <td>1</td>\n",
       "      <td>0</td>\n",
       "      <td>1</td>\n",
       "      <td>0</td>\n",
       "      <td>2</td>\n",
       "      <td>1</td>\n",
       "      <td>1</td>\n",
       "      <td>0.200000</td>\n",
       "      <td>0.212122</td>\n",
       "      <td>0.590435</td>\n",
       "      <td>0.160296</td>\n",
       "      <td>108</td>\n",
       "      <td>1454</td>\n",
       "      <td>1562</td>\n",
       "    </tr>\n",
       "    <tr>\n",
       "      <th>4</th>\n",
       "      <td>5</td>\n",
       "      <td>1/5/2011</td>\n",
       "      <td>1</td>\n",
       "      <td>0</td>\n",
       "      <td>1</td>\n",
       "      <td>0</td>\n",
       "      <td>3</td>\n",
       "      <td>1</td>\n",
       "      <td>1</td>\n",
       "      <td>0.226957</td>\n",
       "      <td>0.229270</td>\n",
       "      <td>0.436957</td>\n",
       "      <td>0.186900</td>\n",
       "      <td>82</td>\n",
       "      <td>1518</td>\n",
       "      <td>1600</td>\n",
       "    </tr>\n",
       "  </tbody>\n",
       "</table>\n",
       "</div>"
      ],
      "text/plain": [
       "   instant    dteday  season  yr  mnth  holiday  weekday  workingday  \\\n",
       "0        1  1/1/2011       1   0     1        0        6           0   \n",
       "1        2  1/2/2011       1   0     1        0        0           0   \n",
       "2        3  1/3/2011       1   0     1        0        1           1   \n",
       "3        4  1/4/2011       1   0     1        0        2           1   \n",
       "4        5  1/5/2011       1   0     1        0        3           1   \n",
       "\n",
       "   weathersit      temp     atemp       hum  windspeed  casual  registered  \\\n",
       "0           2  0.344167  0.363625  0.805833   0.160446     331         654   \n",
       "1           2  0.363478  0.353739  0.696087   0.248539     131         670   \n",
       "2           1  0.196364  0.189405  0.437273   0.248309     120        1229   \n",
       "3           1  0.200000  0.212122  0.590435   0.160296     108        1454   \n",
       "4           1  0.226957  0.229270  0.436957   0.186900      82        1518   \n",
       "\n",
       "    cnt  \n",
       "0   985  \n",
       "1   801  \n",
       "2  1349  \n",
       "3  1562  \n",
       "4  1600  "
      ]
     },
     "execution_count": 3,
     "metadata": {},
     "output_type": "execute_result"
    }
   ],
   "source": [
    "df = pd.read_csv(\"../data/Daily Bike Sharing training.csv\")\n",
    "df.head()"
   ]
  },
  {
   "cell_type": "code",
   "execution_count": 4,
   "metadata": {},
   "outputs": [
    {
     "name": "stdout",
     "output_type": "stream",
     "text": [
      "<class 'pandas.core.frame.DataFrame'>\n",
      "RangeIndex: 701 entries, 0 to 700\n",
      "Data columns (total 16 columns):\n",
      " #   Column      Non-Null Count  Dtype  \n",
      "---  ------      --------------  -----  \n",
      " 0   instant     701 non-null    int64  \n",
      " 1   dteday      701 non-null    object \n",
      " 2   season      701 non-null    int64  \n",
      " 3   yr          701 non-null    int64  \n",
      " 4   mnth        701 non-null    int64  \n",
      " 5   holiday     701 non-null    int64  \n",
      " 6   weekday     701 non-null    int64  \n",
      " 7   workingday  701 non-null    int64  \n",
      " 8   weathersit  701 non-null    int64  \n",
      " 9   temp        701 non-null    float64\n",
      " 10  atemp       701 non-null    float64\n",
      " 11  hum         701 non-null    float64\n",
      " 12  windspeed   701 non-null    float64\n",
      " 13  casual      701 non-null    int64  \n",
      " 14  registered  701 non-null    int64  \n",
      " 15  cnt         701 non-null    int64  \n",
      "dtypes: float64(4), int64(11), object(1)\n",
      "memory usage: 87.8+ KB\n"
     ]
    },
    {
     "data": {
      "text/plain": [
       "Index(['instant', 'dteday', 'season', 'yr', 'mnth', 'holiday', 'weekday',\n",
       "       'workingday', 'weathersit', 'temp', 'atemp', 'hum', 'windspeed',\n",
       "       'casual', 'registered', 'cnt'],\n",
       "      dtype='object')"
      ]
     },
     "execution_count": 4,
     "metadata": {},
     "output_type": "execute_result"
    }
   ],
   "source": [
    "df.info()\n",
    "df.columns"
   ]
  },
  {
   "cell_type": "code",
   "execution_count": 5,
   "metadata": {},
   "outputs": [],
   "source": [
    "df = df.rename(columns={'cnt':'y',\n",
    "                        'dteday':'ds'})"
   ]
  },
  {
   "cell_type": "code",
   "execution_count": 6,
   "metadata": {},
   "outputs": [
    {
     "data": {
      "application/vnd.microsoft.datawrangler.viewer.v0+json": {
       "columns": [
        {
         "name": "index",
         "rawType": "int64",
         "type": "integer"
        },
        {
         "name": "instant",
         "rawType": "int64",
         "type": "integer"
        },
        {
         "name": "ds",
         "rawType": "datetime64[ns]",
         "type": "datetime"
        },
        {
         "name": "season",
         "rawType": "int64",
         "type": "integer"
        },
        {
         "name": "yr",
         "rawType": "int64",
         "type": "integer"
        },
        {
         "name": "mnth",
         "rawType": "int64",
         "type": "integer"
        },
        {
         "name": "holiday",
         "rawType": "int64",
         "type": "integer"
        },
        {
         "name": "weekday",
         "rawType": "int64",
         "type": "integer"
        },
        {
         "name": "workingday",
         "rawType": "int64",
         "type": "integer"
        },
        {
         "name": "weathersit",
         "rawType": "int64",
         "type": "integer"
        },
        {
         "name": "temp",
         "rawType": "float64",
         "type": "float"
        },
        {
         "name": "atemp",
         "rawType": "float64",
         "type": "float"
        },
        {
         "name": "hum",
         "rawType": "float64",
         "type": "float"
        },
        {
         "name": "windspeed",
         "rawType": "float64",
         "type": "float"
        },
        {
         "name": "casual",
         "rawType": "int64",
         "type": "integer"
        },
        {
         "name": "registered",
         "rawType": "int64",
         "type": "integer"
        },
        {
         "name": "y",
         "rawType": "int64",
         "type": "integer"
        }
       ],
       "conversionMethod": "pd.DataFrame",
       "ref": "12491a92-6c49-4b85-98ec-b55b202e3ad4",
       "rows": [
        [
         "0",
         "1",
         "2011-01-01 00:00:00",
         "1",
         "0",
         "1",
         "0",
         "6",
         "0",
         "2",
         "0.344167",
         "0.363625",
         "0.805833",
         "0.160446",
         "331",
         "654",
         "985"
        ],
        [
         "1",
         "2",
         "2011-01-02 00:00:00",
         "1",
         "0",
         "1",
         "0",
         "0",
         "0",
         "2",
         "0.363478",
         "0.353739",
         "0.696087",
         "0.248539",
         "131",
         "670",
         "801"
        ],
        [
         "2",
         "3",
         "2011-01-03 00:00:00",
         "1",
         "0",
         "1",
         "0",
         "1",
         "1",
         "1",
         "0.196364",
         "0.189405",
         "0.437273",
         "0.248309",
         "120",
         "1229",
         "1349"
        ],
        [
         "3",
         "4",
         "2011-01-04 00:00:00",
         "1",
         "0",
         "1",
         "0",
         "2",
         "1",
         "1",
         "0.2",
         "0.212122",
         "0.590435",
         "0.160296",
         "108",
         "1454",
         "1562"
        ],
        [
         "4",
         "5",
         "2011-01-05 00:00:00",
         "1",
         "0",
         "1",
         "0",
         "3",
         "1",
         "1",
         "0.226957",
         "0.22927",
         "0.436957",
         "0.1869",
         "82",
         "1518",
         "1600"
        ]
       ],
       "shape": {
        "columns": 16,
        "rows": 5
       }
      },
      "text/html": [
       "<div>\n",
       "<style scoped>\n",
       "    .dataframe tbody tr th:only-of-type {\n",
       "        vertical-align: middle;\n",
       "    }\n",
       "\n",
       "    .dataframe tbody tr th {\n",
       "        vertical-align: top;\n",
       "    }\n",
       "\n",
       "    .dataframe thead th {\n",
       "        text-align: right;\n",
       "    }\n",
       "</style>\n",
       "<table border=\"1\" class=\"dataframe\">\n",
       "  <thead>\n",
       "    <tr style=\"text-align: right;\">\n",
       "      <th></th>\n",
       "      <th>instant</th>\n",
       "      <th>ds</th>\n",
       "      <th>season</th>\n",
       "      <th>yr</th>\n",
       "      <th>mnth</th>\n",
       "      <th>holiday</th>\n",
       "      <th>weekday</th>\n",
       "      <th>workingday</th>\n",
       "      <th>weathersit</th>\n",
       "      <th>temp</th>\n",
       "      <th>atemp</th>\n",
       "      <th>hum</th>\n",
       "      <th>windspeed</th>\n",
       "      <th>casual</th>\n",
       "      <th>registered</th>\n",
       "      <th>y</th>\n",
       "    </tr>\n",
       "  </thead>\n",
       "  <tbody>\n",
       "    <tr>\n",
       "      <th>0</th>\n",
       "      <td>1</td>\n",
       "      <td>2011-01-01</td>\n",
       "      <td>1</td>\n",
       "      <td>0</td>\n",
       "      <td>1</td>\n",
       "      <td>0</td>\n",
       "      <td>6</td>\n",
       "      <td>0</td>\n",
       "      <td>2</td>\n",
       "      <td>0.344167</td>\n",
       "      <td>0.363625</td>\n",
       "      <td>0.805833</td>\n",
       "      <td>0.160446</td>\n",
       "      <td>331</td>\n",
       "      <td>654</td>\n",
       "      <td>985</td>\n",
       "    </tr>\n",
       "    <tr>\n",
       "      <th>1</th>\n",
       "      <td>2</td>\n",
       "      <td>2011-01-02</td>\n",
       "      <td>1</td>\n",
       "      <td>0</td>\n",
       "      <td>1</td>\n",
       "      <td>0</td>\n",
       "      <td>0</td>\n",
       "      <td>0</td>\n",
       "      <td>2</td>\n",
       "      <td>0.363478</td>\n",
       "      <td>0.353739</td>\n",
       "      <td>0.696087</td>\n",
       "      <td>0.248539</td>\n",
       "      <td>131</td>\n",
       "      <td>670</td>\n",
       "      <td>801</td>\n",
       "    </tr>\n",
       "    <tr>\n",
       "      <th>2</th>\n",
       "      <td>3</td>\n",
       "      <td>2011-01-03</td>\n",
       "      <td>1</td>\n",
       "      <td>0</td>\n",
       "      <td>1</td>\n",
       "      <td>0</td>\n",
       "      <td>1</td>\n",
       "      <td>1</td>\n",
       "      <td>1</td>\n",
       "      <td>0.196364</td>\n",
       "      <td>0.189405</td>\n",
       "      <td>0.437273</td>\n",
       "      <td>0.248309</td>\n",
       "      <td>120</td>\n",
       "      <td>1229</td>\n",
       "      <td>1349</td>\n",
       "    </tr>\n",
       "    <tr>\n",
       "      <th>3</th>\n",
       "      <td>4</td>\n",
       "      <td>2011-01-04</td>\n",
       "      <td>1</td>\n",
       "      <td>0</td>\n",
       "      <td>1</td>\n",
       "      <td>0</td>\n",
       "      <td>2</td>\n",
       "      <td>1</td>\n",
       "      <td>1</td>\n",
       "      <td>0.200000</td>\n",
       "      <td>0.212122</td>\n",
       "      <td>0.590435</td>\n",
       "      <td>0.160296</td>\n",
       "      <td>108</td>\n",
       "      <td>1454</td>\n",
       "      <td>1562</td>\n",
       "    </tr>\n",
       "    <tr>\n",
       "      <th>4</th>\n",
       "      <td>5</td>\n",
       "      <td>2011-01-05</td>\n",
       "      <td>1</td>\n",
       "      <td>0</td>\n",
       "      <td>1</td>\n",
       "      <td>0</td>\n",
       "      <td>3</td>\n",
       "      <td>1</td>\n",
       "      <td>1</td>\n",
       "      <td>0.226957</td>\n",
       "      <td>0.229270</td>\n",
       "      <td>0.436957</td>\n",
       "      <td>0.186900</td>\n",
       "      <td>82</td>\n",
       "      <td>1518</td>\n",
       "      <td>1600</td>\n",
       "    </tr>\n",
       "  </tbody>\n",
       "</table>\n",
       "</div>"
      ],
      "text/plain": [
       "   instant         ds  season  yr  mnth  holiday  weekday  workingday  \\\n",
       "0        1 2011-01-01       1   0     1        0        6           0   \n",
       "1        2 2011-01-02       1   0     1        0        0           0   \n",
       "2        3 2011-01-03       1   0     1        0        1           1   \n",
       "3        4 2011-01-04       1   0     1        0        2           1   \n",
       "4        5 2011-01-05       1   0     1        0        3           1   \n",
       "\n",
       "   weathersit      temp     atemp       hum  windspeed  casual  registered  \\\n",
       "0           2  0.344167  0.363625  0.805833   0.160446     331         654   \n",
       "1           2  0.363478  0.353739  0.696087   0.248539     131         670   \n",
       "2           1  0.196364  0.189405  0.437273   0.248309     120        1229   \n",
       "3           1  0.200000  0.212122  0.590435   0.160296     108        1454   \n",
       "4           1  0.226957  0.229270  0.436957   0.186900      82        1518   \n",
       "\n",
       "      y  \n",
       "0   985  \n",
       "1   801  \n",
       "2  1349  \n",
       "3  1562  \n",
       "4  1600  "
      ]
     },
     "execution_count": 6,
     "metadata": {},
     "output_type": "execute_result"
    }
   ],
   "source": [
    "df['ds'] = pd.to_datetime(df['ds'],format=\"%m/%d/%Y\")\n",
    "df.head()"
   ]
  },
  {
   "cell_type": "code",
   "execution_count": 7,
   "metadata": {},
   "outputs": [],
   "source": [
    "weather_sit = pd.get_dummies(df['weathersit'],drop_first= True)\n",
    "df = pd.concat([df,weather_sit],axis=1)"
   ]
  },
  {
   "cell_type": "code",
   "execution_count": 8,
   "metadata": {},
   "outputs": [
    {
     "data": {
      "text/plain": [
       "Index(['instant', 'ds', 'season', 'yr', 'mnth', 'holiday', 'weekday',\n",
       "       'workingday', 'weathersit', 'temp', 'atemp', 'hum', 'windspeed',\n",
       "       'casual', 'registered', 'y', 'weathersit_2', 'weathersit_3'],\n",
       "      dtype='object')"
      ]
     },
     "execution_count": 8,
     "metadata": {},
     "output_type": "execute_result"
    }
   ],
   "source": [
    "df = df.rename(columns={2:'weathersit_2',\n",
    "                        3:'weathersit_3'})\n",
    "df.columns"
   ]
  },
  {
   "cell_type": "code",
   "execution_count": 9,
   "metadata": {},
   "outputs": [],
   "source": [
    "df.drop(columns=['instant','yr','season','mnth','weekday','casual','registered'],inplace=True)"
   ]
  },
  {
   "cell_type": "code",
   "execution_count": 10,
   "metadata": {},
   "outputs": [
    {
     "data": {
      "application/vnd.microsoft.datawrangler.viewer.v0+json": {
       "columns": [
        {
         "name": "index",
         "rawType": "int64",
         "type": "integer"
        },
        {
         "name": "ds",
         "rawType": "datetime64[ns]",
         "type": "datetime"
        },
        {
         "name": "holiday",
         "rawType": "int64",
         "type": "integer"
        },
        {
         "name": "workingday",
         "rawType": "int64",
         "type": "integer"
        },
        {
         "name": "weathersit",
         "rawType": "int64",
         "type": "integer"
        },
        {
         "name": "temp",
         "rawType": "float64",
         "type": "float"
        },
        {
         "name": "atemp",
         "rawType": "float64",
         "type": "float"
        },
        {
         "name": "hum",
         "rawType": "float64",
         "type": "float"
        },
        {
         "name": "windspeed",
         "rawType": "float64",
         "type": "float"
        },
        {
         "name": "y",
         "rawType": "int64",
         "type": "integer"
        },
        {
         "name": "weathersit_2",
         "rawType": "bool",
         "type": "boolean"
        },
        {
         "name": "weathersit_3",
         "rawType": "bool",
         "type": "boolean"
        }
       ],
       "conversionMethod": "pd.DataFrame",
       "ref": "bd788768-bf16-4793-bee8-363afc51e4d7",
       "rows": [
        [
         "0",
         "2011-01-01 00:00:00",
         "0",
         "0",
         "2",
         "0.344167",
         "0.363625",
         "0.805833",
         "0.160446",
         "985",
         "True",
         "False"
        ],
        [
         "1",
         "2011-01-02 00:00:00",
         "0",
         "0",
         "2",
         "0.363478",
         "0.353739",
         "0.696087",
         "0.248539",
         "801",
         "True",
         "False"
        ],
        [
         "2",
         "2011-01-03 00:00:00",
         "0",
         "1",
         "1",
         "0.196364",
         "0.189405",
         "0.437273",
         "0.248309",
         "1349",
         "False",
         "False"
        ],
        [
         "3",
         "2011-01-04 00:00:00",
         "0",
         "1",
         "1",
         "0.2",
         "0.212122",
         "0.590435",
         "0.160296",
         "1562",
         "False",
         "False"
        ],
        [
         "4",
         "2011-01-05 00:00:00",
         "0",
         "1",
         "1",
         "0.226957",
         "0.22927",
         "0.436957",
         "0.1869",
         "1600",
         "False",
         "False"
        ]
       ],
       "shape": {
        "columns": 11,
        "rows": 5
       }
      },
      "text/html": [
       "<div>\n",
       "<style scoped>\n",
       "    .dataframe tbody tr th:only-of-type {\n",
       "        vertical-align: middle;\n",
       "    }\n",
       "\n",
       "    .dataframe tbody tr th {\n",
       "        vertical-align: top;\n",
       "    }\n",
       "\n",
       "    .dataframe thead th {\n",
       "        text-align: right;\n",
       "    }\n",
       "</style>\n",
       "<table border=\"1\" class=\"dataframe\">\n",
       "  <thead>\n",
       "    <tr style=\"text-align: right;\">\n",
       "      <th></th>\n",
       "      <th>ds</th>\n",
       "      <th>holiday</th>\n",
       "      <th>workingday</th>\n",
       "      <th>weathersit</th>\n",
       "      <th>temp</th>\n",
       "      <th>atemp</th>\n",
       "      <th>hum</th>\n",
       "      <th>windspeed</th>\n",
       "      <th>y</th>\n",
       "      <th>weathersit_2</th>\n",
       "      <th>weathersit_3</th>\n",
       "    </tr>\n",
       "  </thead>\n",
       "  <tbody>\n",
       "    <tr>\n",
       "      <th>0</th>\n",
       "      <td>2011-01-01</td>\n",
       "      <td>0</td>\n",
       "      <td>0</td>\n",
       "      <td>2</td>\n",
       "      <td>0.344167</td>\n",
       "      <td>0.363625</td>\n",
       "      <td>0.805833</td>\n",
       "      <td>0.160446</td>\n",
       "      <td>985</td>\n",
       "      <td>True</td>\n",
       "      <td>False</td>\n",
       "    </tr>\n",
       "    <tr>\n",
       "      <th>1</th>\n",
       "      <td>2011-01-02</td>\n",
       "      <td>0</td>\n",
       "      <td>0</td>\n",
       "      <td>2</td>\n",
       "      <td>0.363478</td>\n",
       "      <td>0.353739</td>\n",
       "      <td>0.696087</td>\n",
       "      <td>0.248539</td>\n",
       "      <td>801</td>\n",
       "      <td>True</td>\n",
       "      <td>False</td>\n",
       "    </tr>\n",
       "    <tr>\n",
       "      <th>2</th>\n",
       "      <td>2011-01-03</td>\n",
       "      <td>0</td>\n",
       "      <td>1</td>\n",
       "      <td>1</td>\n",
       "      <td>0.196364</td>\n",
       "      <td>0.189405</td>\n",
       "      <td>0.437273</td>\n",
       "      <td>0.248309</td>\n",
       "      <td>1349</td>\n",
       "      <td>False</td>\n",
       "      <td>False</td>\n",
       "    </tr>\n",
       "    <tr>\n",
       "      <th>3</th>\n",
       "      <td>2011-01-04</td>\n",
       "      <td>0</td>\n",
       "      <td>1</td>\n",
       "      <td>1</td>\n",
       "      <td>0.200000</td>\n",
       "      <td>0.212122</td>\n",
       "      <td>0.590435</td>\n",
       "      <td>0.160296</td>\n",
       "      <td>1562</td>\n",
       "      <td>False</td>\n",
       "      <td>False</td>\n",
       "    </tr>\n",
       "    <tr>\n",
       "      <th>4</th>\n",
       "      <td>2011-01-05</td>\n",
       "      <td>0</td>\n",
       "      <td>1</td>\n",
       "      <td>1</td>\n",
       "      <td>0.226957</td>\n",
       "      <td>0.229270</td>\n",
       "      <td>0.436957</td>\n",
       "      <td>0.186900</td>\n",
       "      <td>1600</td>\n",
       "      <td>False</td>\n",
       "      <td>False</td>\n",
       "    </tr>\n",
       "  </tbody>\n",
       "</table>\n",
       "</div>"
      ],
      "text/plain": [
       "          ds  holiday  workingday  weathersit      temp     atemp       hum  \\\n",
       "0 2011-01-01        0           0           2  0.344167  0.363625  0.805833   \n",
       "1 2011-01-02        0           0           2  0.363478  0.353739  0.696087   \n",
       "2 2011-01-03        0           1           1  0.196364  0.189405  0.437273   \n",
       "3 2011-01-04        0           1           1  0.200000  0.212122  0.590435   \n",
       "4 2011-01-05        0           1           1  0.226957  0.229270  0.436957   \n",
       "\n",
       "   windspeed     y  weathersit_2  weathersit_3  \n",
       "0   0.160446   985          True         False  \n",
       "1   0.248539   801          True         False  \n",
       "2   0.248309  1349         False         False  \n",
       "3   0.160296  1562         False         False  \n",
       "4   0.186900  1600         False         False  "
      ]
     },
     "execution_count": 10,
     "metadata": {},
     "output_type": "execute_result"
    }
   ],
   "source": [
    "df.head()"
   ]
  },
  {
   "cell_type": "code",
   "execution_count": null,
   "metadata": {},
   "outputs": [],
   "source": [
    "# df.to_csv(\"../data/preprocessed-data.csv\")"
   ]
  },
  {
   "cell_type": "markdown",
   "metadata": {},
   "source": [
    "## Replace The 29/30 of October with previous value\n",
    "\n",
    "checkout the prophet_model.ipynb\n",
    "\n",
    "The RMSE is 1401.0\n",
    "\n",
    "The MAE is 1114.0\n",
    "\n",
    "The MAPE is 109.98%\n",
    "\n",
    "A MAPE of 109.98% suggests that, on average, the model's predictions are more than 100% off from the actual values, which indicates very poor predictive performance. This could mean:\n",
    "\n",
    "- The model isn't well-fitted to the data.\n",
    "- There might be large outliers affecting the error.\n",
    "- The data distribution or scale isn't suitable for the current model."
   ]
  },
  {
   "cell_type": "code",
   "execution_count": 12,
   "metadata": {},
   "outputs": [],
   "source": [
    "to_replace =  (df.loc[df.ds == '2012-10-28'].y.values[0])\n",
    "df.loc[df.ds == '2012-10-29','y'] = to_replace\n",
    "df.loc[df.ds == '2012-10-30','y'] = to_replace"
   ]
  },
  {
   "cell_type": "code",
   "execution_count": 13,
   "metadata": {},
   "outputs": [],
   "source": [
    "df.to_csv(\"../data/preprocessed-data.csv\")"
   ]
  }
 ],
 "metadata": {
  "kernelspec": {
   "display_name": "timeVenv",
   "language": "python",
   "name": "python3"
  },
  "language_info": {
   "codemirror_mode": {
    "name": "ipython",
    "version": 3
   },
   "file_extension": ".py",
   "mimetype": "text/x-python",
   "name": "python",
   "nbconvert_exporter": "python",
   "pygments_lexer": "ipython3",
   "version": "3.10.6"
  }
 },
 "nbformat": 4,
 "nbformat_minor": 2
}
