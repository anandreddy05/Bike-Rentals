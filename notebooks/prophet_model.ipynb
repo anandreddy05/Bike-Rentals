{
 "cells": [
  {
   "cell_type": "markdown",
   "metadata": {},
   "source": [
    "# Prophet Workflow Summary\n",
    "## Data Preparation & Exploration\n",
    "- Data Preprocessing → Clean & prepare data (handle missing values, outliers, convert ds to datetime)\n",
    "- Exploratory Data Analysis (EDA) → Understand trends, seasonality, and correlations\n",
    "- Feature Engineering → Create useful variables (lags, moving averages, categorical encoding)\n",
    "## Prophet Model Workflow\n",
    "- Step 1: Create Prophet model instance\n",
    "- Step 2: Add regressors (holidays, weather, events, etc.)\n",
    "- Step 3: Fit the model on training data\n",
    "- Step 4: Extract & interpret regressor coefficients\n",
    "- Step 5: Performance Metrics → Evaluate using cross-validation (MAE, RMSE, MAPE)\n",
    "- Step 6: Visualization & Interpretation → Plot forecasts & component analysis\n",
    "- Step 7: Forecast future values"
   ]
  },
  {
   "cell_type": "code",
   "execution_count": 61,
   "metadata": {},
   "outputs": [],
   "source": [
    "from prophet import Prophet\n",
    "import pandas as pd\n",
    "import numpy as np\n",
    "import tqdm as notebook_tqdm\n",
    "from prophet.utilities import regressor_coefficients\n",
    "from prophet.diagnostics import cross_validation,performance_metrics\n",
    "from prophet.plot import plot_cross_validation_metric"
   ]
  },
  {
   "cell_type": "code",
   "execution_count": 32,
   "metadata": {},
   "outputs": [],
   "source": [
    "df = pd.read_csv(\"../data/preprocessed-data.csv\")\n",
    "holidays = pd.read_csv(\"../data/holidays.csv\")"
   ]
  },
  {
   "cell_type": "code",
   "execution_count": 33,
   "metadata": {},
   "outputs": [],
   "source": [
    "df['ds'] = pd.to_datetime(df['ds'])\n",
    "holidays['ds'] = holidays['ds'].astype(str).str.strip()\n",
    "holidays['ds'] = holidays['ds'].str.split().str[0]  # Keeps only the YYYY-MM-DD part\n",
    "holidays['ds'] = pd.to_datetime(holidays['ds'], format='%Y-%m-%d', errors='coerce')"
   ]
  },
  {
   "cell_type": "code",
   "execution_count": 34,
   "metadata": {},
   "outputs": [
    {
     "data": {
      "application/vnd.microsoft.datawrangler.viewer.v0+json": {
       "columns": [
        {
         "name": "index",
         "rawType": "int64",
         "type": "integer"
        },
        {
         "name": "Unnamed: 0",
         "rawType": "int64",
         "type": "integer"
        },
        {
         "name": "holiday",
         "rawType": "object",
         "type": "string"
        },
        {
         "name": "ds",
         "rawType": "datetime64[ns]",
         "type": "datetime"
        },
        {
         "name": "lower_window",
         "rawType": "int64",
         "type": "integer"
        },
        {
         "name": "upper_window",
         "rawType": "int64",
         "type": "integer"
        }
       ],
       "conversionMethod": "pd.DataFrame",
       "ref": "17d376c4-ff33-40da-b9e2-0115f336df89",
       "rows": [
        [
         "0",
         "16",
         "gen_holi",
         "2011-01-17 00:00:00",
         "-2",
         "2"
        ],
        [
         "1",
         "51",
         "gen_holi",
         "2011-02-21 00:00:00",
         "-2",
         "2"
        ],
        [
         "2",
         "104",
         "gen_holi",
         "2011-04-15 00:00:00",
         "-2",
         "2"
        ],
        [
         "3",
         "149",
         "gen_holi",
         "2011-05-30 00:00:00",
         "-2",
         "2"
        ],
        [
         "4",
         "184",
         "gen_holi",
         "2011-07-04 00:00:00",
         "-2",
         "2"
        ]
       ],
       "shape": {
        "columns": 5,
        "rows": 5
       }
      },
      "text/html": [
       "<div>\n",
       "<style scoped>\n",
       "    .dataframe tbody tr th:only-of-type {\n",
       "        vertical-align: middle;\n",
       "    }\n",
       "\n",
       "    .dataframe tbody tr th {\n",
       "        vertical-align: top;\n",
       "    }\n",
       "\n",
       "    .dataframe thead th {\n",
       "        text-align: right;\n",
       "    }\n",
       "</style>\n",
       "<table border=\"1\" class=\"dataframe\">\n",
       "  <thead>\n",
       "    <tr style=\"text-align: right;\">\n",
       "      <th></th>\n",
       "      <th>Unnamed: 0</th>\n",
       "      <th>holiday</th>\n",
       "      <th>ds</th>\n",
       "      <th>lower_window</th>\n",
       "      <th>upper_window</th>\n",
       "    </tr>\n",
       "  </thead>\n",
       "  <tbody>\n",
       "    <tr>\n",
       "      <th>0</th>\n",
       "      <td>16</td>\n",
       "      <td>gen_holi</td>\n",
       "      <td>2011-01-17</td>\n",
       "      <td>-2</td>\n",
       "      <td>2</td>\n",
       "    </tr>\n",
       "    <tr>\n",
       "      <th>1</th>\n",
       "      <td>51</td>\n",
       "      <td>gen_holi</td>\n",
       "      <td>2011-02-21</td>\n",
       "      <td>-2</td>\n",
       "      <td>2</td>\n",
       "    </tr>\n",
       "    <tr>\n",
       "      <th>2</th>\n",
       "      <td>104</td>\n",
       "      <td>gen_holi</td>\n",
       "      <td>2011-04-15</td>\n",
       "      <td>-2</td>\n",
       "      <td>2</td>\n",
       "    </tr>\n",
       "    <tr>\n",
       "      <th>3</th>\n",
       "      <td>149</td>\n",
       "      <td>gen_holi</td>\n",
       "      <td>2011-05-30</td>\n",
       "      <td>-2</td>\n",
       "      <td>2</td>\n",
       "    </tr>\n",
       "    <tr>\n",
       "      <th>4</th>\n",
       "      <td>184</td>\n",
       "      <td>gen_holi</td>\n",
       "      <td>2011-07-04</td>\n",
       "      <td>-2</td>\n",
       "      <td>2</td>\n",
       "    </tr>\n",
       "  </tbody>\n",
       "</table>\n",
       "</div>"
      ],
      "text/plain": [
       "   Unnamed: 0   holiday         ds  lower_window  upper_window\n",
       "0          16  gen_holi 2011-01-17            -2             2\n",
       "1          51  gen_holi 2011-02-21            -2             2\n",
       "2         104  gen_holi 2011-04-15            -2             2\n",
       "3         149  gen_holi 2011-05-30            -2             2\n",
       "4         184  gen_holi 2011-07-04            -2             2"
      ]
     },
     "execution_count": 34,
     "metadata": {},
     "output_type": "execute_result"
    }
   ],
   "source": [
    "holidays.head()\n"
   ]
  },
  {
   "cell_type": "code",
   "execution_count": 35,
   "metadata": {},
   "outputs": [
    {
     "name": "stderr",
     "output_type": "stream",
     "text": [
      "10:03:47 - cmdstanpy - INFO - Chain [1] start processing\n",
      "10:03:48 - cmdstanpy - INFO - Chain [1] done processing\n"
     ]
    },
    {
     "data": {
      "text/plain": [
       "<prophet.forecaster.Prophet at 0x1de4d8c1de0>"
      ]
     },
     "execution_count": 35,
     "metadata": {},
     "output_type": "execute_result"
    }
   ],
   "source": [
    "m = Prophet(holidays = holidays,\n",
    "            seasonality_mode=\"multiplicative\",\n",
    "            seasonality_prior_scale=10, # default value 10\n",
    "            holidays_prior_scale=10,\n",
    "            changepoint_prior_scale=0.05)\n",
    "m.add_regressor(\"workingday\")\n",
    "m.add_regressor(\"weathersit\")\n",
    "m.add_regressor(\"temp\")\n",
    "m.add_regressor(\"atemp\")\n",
    "m.add_regressor(\"hum\")\n",
    "m.add_regressor(\"windspeed\")\n",
    "m.add_regressor(\"weathersit_2\")\n",
    "m.add_regressor(\"weathersit_3\")\n",
    "m.fit(df)"
   ]
  },
  {
   "cell_type": "markdown",
   "metadata": {},
   "source": [
    "### Column\tMeaning\n",
    "- `regressor`:Name of the external regressor (e.g., temp, humidity, workingday, etc.)\n",
    "- `regressor_mode`:How the regressor affects the model: additive (directly added to yhat) or multiplicative (scales yhat)\n",
    "- `center`:Mean value of the regressor (used for normalization)\n",
    "- `coef_lower`:Lower bound of the coefficient (confidence interval)\n",
    "- `coef`:Estimated effect of the regressor on the forecast\n",
    "- `coef_upper`:Upper bound of the coefficient (confidence interval)\n",
    "\n",
    "#### `Confifdence Interval`\n",
    "- A Confidence Interval (CI) gives an estimated range of values that the true effect of a regressor is likely to fall within.\n",
    "- It helps measure uncertainty in predictions.\n",
    "\n"
   ]
  },
  {
   "cell_type": "code",
   "execution_count": 37,
   "metadata": {},
   "outputs": [
    {
     "data": {
      "application/vnd.microsoft.datawrangler.viewer.v0+json": {
       "columns": [
        {
         "name": "index",
         "rawType": "int64",
         "type": "integer"
        },
        {
         "name": "regressor",
         "rawType": "object",
         "type": "string"
        },
        {
         "name": "regressor_mode",
         "rawType": "object",
         "type": "string"
        },
        {
         "name": "center",
         "rawType": "float64",
         "type": "float"
        },
        {
         "name": "coef_lower",
         "rawType": "float64",
         "type": "float"
        },
        {
         "name": "coef",
         "rawType": "float64",
         "type": "float"
        },
        {
         "name": "coef_upper",
         "rawType": "float64",
         "type": "float"
        }
       ],
       "conversionMethod": "pd.DataFrame",
       "ref": "5774433c-500e-4d87-bd4a-7c6cd1258b36",
       "rows": [
        [
         "0",
         "workingday",
         "multiplicative",
         "0.0",
         "0.219575",
         "0.219575",
         "0.219575"
        ],
        [
         "1",
         "weathersit",
         "multiplicative",
         "1.3851640513552068",
         "-0.2673752107449591",
         "-0.2673752107449591",
         "-0.2673752107449591"
        ],
        [
         "2",
         "temp",
         "multiplicative",
         "0.5027323001426534",
         "0.41896172524139336",
         "0.41896172524139336",
         "0.41896172524139336"
        ],
        [
         "3",
         "atemp",
         "multiplicative",
         "0.48084734907275317",
         "0.9020750341808402",
         "0.9020750341808402",
         "0.9020750341808402"
        ],
        [
         "4",
         "hum",
         "multiplicative",
         "0.6257166733238231",
         "-0.34842160693933344",
         "-0.34842160693933344",
         "-0.34842160693933344"
        ],
        [
         "5",
         "windspeed",
         "multiplicative",
         "0.19053439686162624",
         "-0.5077031361846441",
         "-0.5077031361846441",
         "-0.5077031361846441"
        ],
        [
         "6",
         "weathersit_2",
         "multiplicative",
         "0.0",
         "0.165715",
         "0.165715",
         "0.165715"
        ],
        [
         "7",
         "weathersit_3",
         "multiplicative",
         "0.0",
         "-0.028772",
         "-0.028772",
         "-0.028772"
        ]
       ],
       "shape": {
        "columns": 6,
        "rows": 8
       }
      },
      "text/html": [
       "<div>\n",
       "<style scoped>\n",
       "    .dataframe tbody tr th:only-of-type {\n",
       "        vertical-align: middle;\n",
       "    }\n",
       "\n",
       "    .dataframe tbody tr th {\n",
       "        vertical-align: top;\n",
       "    }\n",
       "\n",
       "    .dataframe thead th {\n",
       "        text-align: right;\n",
       "    }\n",
       "</style>\n",
       "<table border=\"1\" class=\"dataframe\">\n",
       "  <thead>\n",
       "    <tr style=\"text-align: right;\">\n",
       "      <th></th>\n",
       "      <th>regressor</th>\n",
       "      <th>regressor_mode</th>\n",
       "      <th>center</th>\n",
       "      <th>coef_lower</th>\n",
       "      <th>coef</th>\n",
       "      <th>coef_upper</th>\n",
       "    </tr>\n",
       "  </thead>\n",
       "  <tbody>\n",
       "    <tr>\n",
       "      <th>0</th>\n",
       "      <td>workingday</td>\n",
       "      <td>multiplicative</td>\n",
       "      <td>0.000000</td>\n",
       "      <td>0.219575</td>\n",
       "      <td>0.219575</td>\n",
       "      <td>0.219575</td>\n",
       "    </tr>\n",
       "    <tr>\n",
       "      <th>1</th>\n",
       "      <td>weathersit</td>\n",
       "      <td>multiplicative</td>\n",
       "      <td>1.385164</td>\n",
       "      <td>-0.267375</td>\n",
       "      <td>-0.267375</td>\n",
       "      <td>-0.267375</td>\n",
       "    </tr>\n",
       "    <tr>\n",
       "      <th>2</th>\n",
       "      <td>temp</td>\n",
       "      <td>multiplicative</td>\n",
       "      <td>0.502732</td>\n",
       "      <td>0.418962</td>\n",
       "      <td>0.418962</td>\n",
       "      <td>0.418962</td>\n",
       "    </tr>\n",
       "    <tr>\n",
       "      <th>3</th>\n",
       "      <td>atemp</td>\n",
       "      <td>multiplicative</td>\n",
       "      <td>0.480847</td>\n",
       "      <td>0.902075</td>\n",
       "      <td>0.902075</td>\n",
       "      <td>0.902075</td>\n",
       "    </tr>\n",
       "    <tr>\n",
       "      <th>4</th>\n",
       "      <td>hum</td>\n",
       "      <td>multiplicative</td>\n",
       "      <td>0.625717</td>\n",
       "      <td>-0.348422</td>\n",
       "      <td>-0.348422</td>\n",
       "      <td>-0.348422</td>\n",
       "    </tr>\n",
       "    <tr>\n",
       "      <th>5</th>\n",
       "      <td>windspeed</td>\n",
       "      <td>multiplicative</td>\n",
       "      <td>0.190534</td>\n",
       "      <td>-0.507703</td>\n",
       "      <td>-0.507703</td>\n",
       "      <td>-0.507703</td>\n",
       "    </tr>\n",
       "    <tr>\n",
       "      <th>6</th>\n",
       "      <td>weathersit_2</td>\n",
       "      <td>multiplicative</td>\n",
       "      <td>0.000000</td>\n",
       "      <td>0.165715</td>\n",
       "      <td>0.165715</td>\n",
       "      <td>0.165715</td>\n",
       "    </tr>\n",
       "    <tr>\n",
       "      <th>7</th>\n",
       "      <td>weathersit_3</td>\n",
       "      <td>multiplicative</td>\n",
       "      <td>0.000000</td>\n",
       "      <td>-0.028772</td>\n",
       "      <td>-0.028772</td>\n",
       "      <td>-0.028772</td>\n",
       "    </tr>\n",
       "  </tbody>\n",
       "</table>\n",
       "</div>"
      ],
      "text/plain": [
       "      regressor  regressor_mode    center  coef_lower      coef  coef_upper\n",
       "0    workingday  multiplicative  0.000000    0.219575  0.219575    0.219575\n",
       "1    weathersit  multiplicative  1.385164   -0.267375 -0.267375   -0.267375\n",
       "2          temp  multiplicative  0.502732    0.418962  0.418962    0.418962\n",
       "3         atemp  multiplicative  0.480847    0.902075  0.902075    0.902075\n",
       "4           hum  multiplicative  0.625717   -0.348422 -0.348422   -0.348422\n",
       "5     windspeed  multiplicative  0.190534   -0.507703 -0.507703   -0.507703\n",
       "6  weathersit_2  multiplicative  0.000000    0.165715  0.165715    0.165715\n",
       "7  weathersit_3  multiplicative  0.000000   -0.028772 -0.028772   -0.028772"
      ]
     },
     "execution_count": 37,
     "metadata": {},
     "output_type": "execute_result"
    }
   ],
   "source": [
    "# Regressor Coefficient\n",
    "regressor_coefficients(m)"
   ]
  },
  {
   "cell_type": "markdown",
   "metadata": {},
   "source": [
    "### Key Takeaways\n",
    "\n",
    "- People rent more bikes on working days.\n",
    "- Bad weather (wind, humidity, rain) decreases rentals.\n",
    "- Higher temperatures encourage more bike usage.\n",
    "- Wind speed has the strongest negative effect (makes sense, as cycling in strong wind is difficult)."
   ]
  },
  {
   "cell_type": "code",
   "execution_count": 44,
   "metadata": {},
   "outputs": [
    {
     "name": "stdout",
     "output_type": "stream",
     "text": [
      "Interpreting Prophet Model Coefficients\n",
      "\n",
      "1 -> workingday (multiplicative mode) INCREASES predictions moderately (0.220)\n",
      "2 -> weathersit (multiplicative mode) DECREASES predictions moderately (-0.267)\n",
      "3 -> temp (multiplicative mode) INCREASES predictions moderately (0.419)\n",
      "4 -> atemp (multiplicative mode) INCREASES predictions strongly (0.902)\n",
      "5 -> hum (multiplicative mode) DECREASES predictions moderately (-0.348)\n",
      "6 -> windspeed (multiplicative mode) DECREASES predictions strongly (-0.508)\n",
      "7 -> weathersit_2 (multiplicative mode) INCREASES predictions weakly (0.166)\n",
      "8 -> weathersit_3 (multiplicative mode) DECREASES predictions weakly (-0.029)\n",
      "\n",
      " Larger absolute values mean stronger influence on forecasts.\n"
     ]
    }
   ],
   "source": [
    "import pandas as pd\n",
    "\n",
    "def interpret_prophet_coefficients(df):\n",
    "    if 'regressor' not in df.columns or 'coef' not in df.columns:\n",
    "        raise ValueError(\"DataFrame must contain 'regressor' and 'coef' columns.\")\n",
    "    \n",
    "    print(\"Interpreting Prophet Model Coefficients\\n\")\n",
    "    \n",
    "    for i, row in df.iterrows():\n",
    "        regressor = row['regressor']\n",
    "        coef = row['coef']\n",
    "        mode = row.get('regressor_mode', 'unknown')  # Handle missing column\n",
    "        \n",
    "        impact = \"INCREASES\" if coef > 0 else \"DECREASES\"\n",
    "        effect_size = \"strongly\" if abs(coef) > 0.5 else \"moderately\" if abs(coef) > 0.2 else \"weakly\"\n",
    "        \n",
    "        print(f\"{i+1} -> {regressor} ({mode} mode) {impact} predictions {effect_size} ({coef:.3f})\")\n",
    "\n",
    "    print(\"\\n Larger absolute values mean stronger influence on forecasts.\")\n",
    "\n",
    "interpret_prophet_coefficients(regressor_coefficients(m))"
   ]
  },
  {
   "cell_type": "markdown",
   "metadata": {},
   "source": [
    "## Cross Validation"
   ]
  },
  {
   "cell_type": "code",
   "execution_count": 51,
   "metadata": {},
   "outputs": [
    {
     "data": {
      "text/plain": [
       "521"
      ]
     },
     "execution_count": 51,
     "metadata": {},
     "output_type": "execute_result"
    }
   ],
   "source": [
    "# initial is the length of the initial training period before cross-validation starts. Prophet uses this to train the model before making predictions on the validation set.\n",
    "df.shape[0] - 180"
   ]
  },
  {
   "cell_type": "markdown",
   "metadata": {},
   "source": [
    "### Column\tMeaning\n",
    "- `ds`:The actual date/time of the forecast\n",
    "- `yhat`:The predicted value (forecast) by Prophet\n",
    "- `yhat_lower`:The lower bound of the uncertainty interval (confidence interval)\n",
    "- `yhat_upper`:The upper bound of the uncertainty interval\n",
    "- `y`:The actual observed value (ground truth)\n",
    "- `cutoff`:The last date Prophet used for training before making this prediction"
   ]
  },
  {
   "cell_type": "code",
   "execution_count": null,
   "metadata": {},
   "outputs": [
    {
     "data": {
      "application/vnd.microsoft.datawrangler.viewer.v0+json": {
       "columns": [
        {
         "name": "index",
         "rawType": "int64",
         "type": "integer"
        },
        {
         "name": "ds",
         "rawType": "datetime64[ns]",
         "type": "datetime"
        },
        {
         "name": "yhat",
         "rawType": "float64",
         "type": "float"
        },
        {
         "name": "yhat_lower",
         "rawType": "float64",
         "type": "float"
        },
        {
         "name": "yhat_upper",
         "rawType": "float64",
         "type": "float"
        },
        {
         "name": "y",
         "rawType": "int64",
         "type": "integer"
        },
        {
         "name": "cutoff",
         "rawType": "datetime64[ns]",
         "type": "datetime"
        }
       ],
       "conversionMethod": "pd.DataFrame",
       "ref": "0072f357-1a24-488d-9fd5-8a446e45ce9a",
       "rows": [
        [
         "0",
         "2012-06-20 00:00:00",
         "8564.525885193709",
         "7836.729310206666",
         "9321.450320332213",
         "6211",
         "2012-06-19 00:00:00"
        ],
        [
         "1",
         "2012-06-21 00:00:00",
         "9034.098485104974",
         "8272.584766424461",
         "9809.179535388388",
         "5905",
         "2012-06-19 00:00:00"
        ],
        [
         "2",
         "2012-06-22 00:00:00",
         "8675.125830554343",
         "7912.586940258032",
         "9509.73758907016",
         "5823",
         "2012-06-19 00:00:00"
        ],
        [
         "3",
         "2012-06-23 00:00:00",
         "8295.804597840877",
         "7434.149524513684",
         "9035.5145752739",
         "7458",
         "2012-06-19 00:00:00"
        ],
        [
         "4",
         "2012-06-24 00:00:00",
         "8278.648971101353",
         "7490.907968297706",
         "9081.562088570285",
         "6891",
         "2012-06-19 00:00:00"
        ]
       ],
       "shape": {
        "columns": 6,
        "rows": 5
       }
      },
      "text/html": [
       "<div>\n",
       "<style scoped>\n",
       "    .dataframe tbody tr th:only-of-type {\n",
       "        vertical-align: middle;\n",
       "    }\n",
       "\n",
       "    .dataframe tbody tr th {\n",
       "        vertical-align: top;\n",
       "    }\n",
       "\n",
       "    .dataframe thead th {\n",
       "        text-align: right;\n",
       "    }\n",
       "</style>\n",
       "<table border=\"1\" class=\"dataframe\">\n",
       "  <thead>\n",
       "    <tr style=\"text-align: right;\">\n",
       "      <th></th>\n",
       "      <th>ds</th>\n",
       "      <th>yhat</th>\n",
       "      <th>yhat_lower</th>\n",
       "      <th>yhat_upper</th>\n",
       "      <th>y</th>\n",
       "      <th>cutoff</th>\n",
       "    </tr>\n",
       "  </thead>\n",
       "  <tbody>\n",
       "    <tr>\n",
       "      <th>0</th>\n",
       "      <td>2012-06-20</td>\n",
       "      <td>8564.525885</td>\n",
       "      <td>7836.729310</td>\n",
       "      <td>9321.450320</td>\n",
       "      <td>6211</td>\n",
       "      <td>2012-06-19</td>\n",
       "    </tr>\n",
       "    <tr>\n",
       "      <th>1</th>\n",
       "      <td>2012-06-21</td>\n",
       "      <td>9034.098485</td>\n",
       "      <td>8272.584766</td>\n",
       "      <td>9809.179535</td>\n",
       "      <td>5905</td>\n",
       "      <td>2012-06-19</td>\n",
       "    </tr>\n",
       "    <tr>\n",
       "      <th>2</th>\n",
       "      <td>2012-06-22</td>\n",
       "      <td>8675.125831</td>\n",
       "      <td>7912.586940</td>\n",
       "      <td>9509.737589</td>\n",
       "      <td>5823</td>\n",
       "      <td>2012-06-19</td>\n",
       "    </tr>\n",
       "    <tr>\n",
       "      <th>3</th>\n",
       "      <td>2012-06-23</td>\n",
       "      <td>8295.804598</td>\n",
       "      <td>7434.149525</td>\n",
       "      <td>9035.514575</td>\n",
       "      <td>7458</td>\n",
       "      <td>2012-06-19</td>\n",
       "    </tr>\n",
       "    <tr>\n",
       "      <th>4</th>\n",
       "      <td>2012-06-24</td>\n",
       "      <td>8278.648971</td>\n",
       "      <td>7490.907968</td>\n",
       "      <td>9081.562089</td>\n",
       "      <td>6891</td>\n",
       "      <td>2012-06-19</td>\n",
       "    </tr>\n",
       "  </tbody>\n",
       "</table>\n",
       "</div>"
      ],
      "text/plain": [
       "          ds         yhat   yhat_lower   yhat_upper     y     cutoff\n",
       "0 2012-06-20  8564.525885  7836.729310  9321.450320  6211 2012-06-19\n",
       "1 2012-06-21  9034.098485  8272.584766  9809.179535  5905 2012-06-19\n",
       "2 2012-06-22  8675.125831  7912.586940  9509.737589  5823 2012-06-19\n",
       "3 2012-06-23  8295.804598  7434.149525  9035.514575  7458 2012-06-19\n",
       "4 2012-06-24  8278.648971  7490.907968  9081.562089  6891 2012-06-19"
      ]
     },
     "execution_count": 52,
     "metadata": {},
     "output_type": "execute_result"
    }
   ],
   "source": [
    "df_cv = cross_validation(model=m,\n",
    "                         horizon = '30 days',\n",
    "                         period='15 days',\n",
    "                         initial='521 days',\n",
    "                         parallel='processes')\n",
    "df_cv.head()"
   ]
  },
  {
   "cell_type": "code",
   "execution_count": null,
   "metadata": {},
   "outputs": [],
   "source": [
    "performance_metrics(df_cv)"
   ]
  },
  {
   "cell_type": "code",
   "execution_count": 60,
   "metadata": {},
   "outputs": [
    {
     "name": "stdout",
     "output_type": "stream",
     "text": [
      "The RMSE is 1401.0\n",
      "The MAE is 1114.0\n",
      "The MAPE is 109.98%\n"
     ]
    }
   ],
   "source": [
    "rmse = round(performance_metrics(df_cv)['rmse'].mean(),0)\n",
    "mape = round(performance_metrics(df_cv)['mape'].mean()*100,2)\n",
    "mae = round(performance_metrics(df_cv)['mae'].mean(),0)\n",
    "print(f\"The RMSE is {rmse}\")\n",
    "print(f\"The MAE is {mae}\")\n",
    "print(f\"The MAPE is {mape}%\")"
   ]
  },
  {
   "cell_type": "code",
   "execution_count": 63,
   "metadata": {},
   "outputs": [
    {
     "name": "stderr",
     "output_type": "stream",
     "text": [
      "d:\\Machine Learning\\TimeSeries\\timeVenv\\lib\\site-packages\\prophet\\plot.py:546: FutureWarning: Series.view is deprecated and will be removed in a future version. Use ``astype`` as an alternative to change the dtype.\n",
      "  x_plt = df_none['horizon'].astype('timedelta64[ns]').view(np.int64) / float(dt_conversions[i])\n",
      "d:\\Machine Learning\\TimeSeries\\timeVenv\\lib\\site-packages\\prophet\\plot.py:547: FutureWarning: Series.view is deprecated and will be removed in a future version. Use ``astype`` as an alternative to change the dtype.\n",
      "  x_plt_h = df_h['horizon'].astype('timedelta64[ns]').view(np.int64) / float(dt_conversions[i])\n"
     ]
    },
    {
     "data": {
      "image/png": "[encoded data removed]",
      "text/plain": [
       "<Figure size 1000x600 with 1 Axes>"
      ]
     },
     "metadata": {},
     "output_type": "display_data"
    }
   ],
   "source": [
    "plot_cross_validation_metric(df_cv,metric='mape');"
   ]
  },
  {
   "cell_type": "code",
   "execution_count": null,
   "metadata": {},
   "outputs": [],
   "source": []
  }
 ],
 "metadata": {
  "kernelspec": {
   "display_name": "timeVenv",
   "language": "python",
   "name": "python3"
  },
  "language_info": {
   "codemirror_mode": {
    "name": "ipython",
    "version": 3
   },
   "file_extension": ".py",
   "mimetype": "text/x-python",
   "name": "python",
   "nbconvert_exporter": "python",
   "pygments_lexer": "ipython3",
   "version": "3.10.6"
  }
 },
 "nbformat": 4,
 "nbformat_minor": 2
}
